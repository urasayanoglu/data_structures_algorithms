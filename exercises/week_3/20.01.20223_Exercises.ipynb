{
 "cells": [
  {
   "cell_type": "markdown",
   "id": "5431b1f5-219d-4f97-9777-0f2b852b5de3",
   "metadata": {},
   "source": [
    "# Exercises on 20.01.2023"
   ]
  },
  {
   "cell_type": "code",
   "execution_count": 7,
   "id": "45ecdcdd-8015-4e7a-98b1-66a611e8c69e",
   "metadata": {},
   "outputs": [
    {
     "name": "stdout",
     "output_type": "stream",
     "text": [
      "163 ns ± 34.1 ns per loop (mean ± std. dev. of 7 runs, 1,000,000 loops each)\n"
     ]
    }
   ],
   "source": [
    "# Geometric Seq Formula\n",
    "\n",
    "def formula(first, ratio, index):\n",
    "    return first * ratio**(index-1)\n"
   ]
  },
  {
   "cell_type": "code",
   "execution_count": 2,
   "id": "d956ba89-27a9-4dbb-b782-a9cc53f89619",
   "metadata": {},
   "outputs": [],
   "source": [
    "# Iteration \n",
    "\n",
    "def geo_iter(first, ratio, index):\n",
    "    for i in range(1, index):\n",
    "        first = first * ratio\n",
    "    return first "
   ]
  },
  {
   "cell_type": "code",
   "execution_count": 5,
   "id": "8a4b0568-94b9-436d-be76-60ca453d973f",
   "metadata": {},
   "outputs": [],
   "source": [
    "# Recursive \n",
    "\n",
    "def recursive_geo(first, ratio, index):\n",
    "    if index == 1:\n",
    "        return first\n",
    "    else:\n",
    "        return recursive_geo(first, ratio, index-1) * ratio\n",
    "    "
   ]
  },
  {
   "cell_type": "code",
   "execution_count": 6,
   "id": "9f5eccde-e724-4d77-8988-aa5ba29c458a",
   "metadata": {},
   "outputs": [
    {
     "name": "stdout",
     "output_type": "stream",
     "text": [
      "-64\n"
     ]
    }
   ],
   "source": [
    "print(recursive_geo(-4,2,5))"
   ]
  },
  {
   "cell_type": "code",
   "execution_count": 10,
   "id": "90f25d19-6fd9-456f-992d-138260c49113",
   "metadata": {},
   "outputs": [
    {
     "name": "stdout",
     "output_type": "stream",
     "text": [
      "322 ns ± 7.96 ns per loop (mean ± std. dev. of 7 runs, 1,000,000 loops each)\n",
      "2.77 µs ± 128 ns per loop (mean ± std. dev. of 7 runs, 100,000 loops each)\n",
      "5.05 µs ± 68.7 ns per loop (mean ± std. dev. of 7 runs, 100,000 loops each)\n"
     ]
    }
   ],
   "source": [
    "%timeit formula(-4,2,50)\n",
    "\n",
    "%timeit geo_iter(-4,2,50)\n",
    "\n",
    "%timeit recursive_geo(-4,2,50)"
   ]
  },
  {
   "cell_type": "code",
   "execution_count": null,
   "id": "22f8eadb-7c30-44a3-86eb-b9ab4efd45b1",
   "metadata": {},
   "outputs": [],
   "source": []
  }
 ],
 "metadata": {
  "kernelspec": {
   "display_name": "Python 3 (ipykernel)",
   "language": "python",
   "name": "python3"
  },
  "language_info": {
   "codemirror_mode": {
    "name": "ipython",
    "version": 3
   },
   "file_extension": ".py",
   "mimetype": "text/x-python",
   "name": "python",
   "nbconvert_exporter": "python",
   "pygments_lexer": "ipython3",
   "version": "3.11.1"
  }
 },
 "nbformat": 4,
 "nbformat_minor": 5
}
