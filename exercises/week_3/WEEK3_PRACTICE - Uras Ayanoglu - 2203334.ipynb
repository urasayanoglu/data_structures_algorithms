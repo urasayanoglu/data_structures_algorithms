{
 "cells": [
  {
   "cell_type": "markdown",
   "id": "f63037a3-aa4b-4672-8b9a-e74810203285",
   "metadata": {},
   "source": [
    "## Name: Uras Ayanoglu\n",
    "## Number:2203334"
   ]
  },
  {
   "cell_type": "markdown",
   "id": "aa92b120-be45-4d40-a634-c07f60f6c5a0",
   "metadata": {
    "tags": []
   },
   "source": [
    "# Exercises for Week 3: Basic data types, recursion, iteration\n",
    "\n",
    "In this set of exercises you will be introduced to further algorithms which can be implemented either using iteration or recursion. Your task is to analyze in each case, which of the implementations is more effective. Also try to reason why."
   ]
  },
  {
   "cell_type": "markdown",
   "id": "3435e2f3-5c39-4463-b77c-d2460365d118",
   "metadata": {
    "tags": []
   },
   "source": [
    "## Task 1: Factorial\n",
    "\n",
    "Factorial is a well-known and widely used combinatorial function.\n",
    "It tells the number of ways one can place $n$ elements in a row.\n",
    "\n",
    "The factorial function is defined so that\n",
    "$$0! = 1$$\n",
    "$$1! = 1$$\n",
    "$$ n! = n\\cdot (n-1)\\cdot \\ldots \\cdot 2\\cdot 1$$\n",
    "\n",
    "a) Write an iterative algorithm computing the factorial of user given n.\n",
    "b) Write a recursive algorithm computing the factorial of user given n.\n",
    "c) Compare the runtime of both by using Jupyter's built-in tool **%timeit**."
   ]
  },
  {
   "cell_type": "code",
   "execution_count": 12,
   "id": "68f57cee-fb20-4dcf-bdf9-1dd9a0f18b21",
   "metadata": {},
   "outputs": [
    {
     "name": "stdout",
     "output_type": "stream",
     "text": [
      "93326215443944152681699238856266700490715968264381621468592963895217599993229915608941463976156518286253697920827223758251185210916864000000000000000000000000\n",
      "8.3 µs ± 818 ns per loop (mean ± std. dev. of 7 runs, 100,000 loops each)\n"
     ]
    }
   ],
   "source": [
    "# a) Iterative Factorial Algorithm\n",
    "\n",
    "def factorial_of(num):\n",
    "    result = 1\n",
    "    for i in range(1, num + 1):\n",
    "        result *= i\n",
    "    return result\n",
    "\n",
    "print(factorial_of(100))\n",
    "\n",
    "%timeit factorial_of(100)\n"
   ]
  },
  {
   "cell_type": "code",
   "execution_count": 13,
   "id": "453ddd11-40c3-4e5f-90e8-7e872aa9ebc0",
   "metadata": {},
   "outputs": [
    {
     "name": "stdout",
     "output_type": "stream",
     "text": [
      "93326215443944152681699238856266700490715968264381621468592963895217599993229915608941463976156518286253697920827223758251185210916864000000000000000000000000\n",
      "12.4 µs ± 623 ns per loop (mean ± std. dev. of 7 runs, 100,000 loops each)\n"
     ]
    }
   ],
   "source": [
    "# b) Recursive Factorial Algorithm\n",
    "\n",
    "def factorial_of(n):\n",
    "    if n <= 1:\n",
    "        return n\n",
    "    else:\n",
    "        return n*factorial_of(n-1)\n",
    "    \n",
    "print(factorial_of(100))        \n",
    "\n",
    "%timeit factorial_of(100)"
   ]
  },
  {
   "cell_type": "markdown",
   "id": "fcf8a2ce-1f0f-44cc-8c2e-bb8fbb67e789",
   "metadata": {
    "tags": []
   },
   "source": [
    "## Task 2: Fibonacci sequence\n",
    "\n",
    "Fibonacci sequence is a very famous number sequence starting with elements 1, 1, 2, 3, 5, 8, 13, ...\n",
    "\n",
    "The number series is formed in such a manner that the next element in the series will be obtained by adding the current element with the previous element, i.e.\n",
    "\n",
    "next = current + previous\n",
    "\n",
    "If you use symbols for the elements in the number list, then you can use the following notation\n",
    "\n",
    "1, 1, 2, 3, 5, 8, 13, ...\n",
    "\n",
    "$F_1$, $F_2$, $F_3$, $F_4$, $F_5$, $F_6$, $F_7$, ...\n",
    "\n",
    "So, in the sequence you will get $F_8$(next) by taking $F_7$ (current) and $F_6$ (previous).\n",
    "\n",
    "$F_8=F_7+F_6=13+8+=21$\n",
    "\n",
    "Your task is to write an algorithm\n",
    "1) that recursively computes the element in the Fibonacci series, given the index number\n",
    "2) that iteratively does the same thing"
   ]
  },
  {
   "cell_type": "code",
   "execution_count": 18,
   "id": "8ea5e809-43c8-4dd8-9afa-3bd32cf71710",
   "metadata": {},
   "outputs": [
    {
     "name": "stdout",
     "output_type": "stream",
     "text": [
      "[0, 1, 1, 2, 3, 5, 8, 13, 21, 34, 55]\n",
      "12.2 µs ± 376 ns per loop (mean ± std. dev. of 7 runs, 100,000 loops each)\n"
     ]
    }
   ],
   "source": [
    "# 1. Recursive Fibonacci Algorithm \n",
    "\n",
    "def fibonacci_of(n):\n",
    "   \n",
    "    if n < 0:\n",
    "        print(\"Number provided should be non negative!\")\n",
    "        \n",
    "    elif n == 0:\n",
    "        return 0\n",
    "    \n",
    "    elif n == 1 or n == 2:\n",
    "        return 1\n",
    "    \n",
    "    else:\n",
    "        return fibonacci_of(n-1) + fibonacci_of(n-2)\n",
    "\n",
    "print([fibonacci_of(n) for n in range(11)])\n",
    "\n",
    "%timeit fibonacci_of(10)\n"
   ]
  },
  {
   "cell_type": "code",
   "execution_count": 16,
   "id": "7796f851-5f9e-434f-a302-08e5d2f93574",
   "metadata": {},
   "outputs": [
    {
     "name": "stdout",
     "output_type": "stream",
     "text": [
      "[0, 1, 1, 2, 3, 5, 8, 13, 21, 34, 55]\n",
      "55\n",
      "632 ns ± 33.1 ns per loop (mean ± std. dev. of 7 runs, 1,000,000 loops each)\n"
     ]
    }
   ],
   "source": [
    "# 2. Iterative Fibonacci Algorithm\n",
    "\n",
    "def iterative_fibonacci_of(n):\n",
    "    a,b = 0,1\n",
    "    for i in range(n):\n",
    "        a,b = b,a+b\n",
    "    return a\n",
    "\n",
    "print([iterative_fibonacci_of(n) for n in range(11)])\n",
    "print(iterative_fibonacci_of(10))\n",
    "\n",
    "%timeit iterative_fibonacci_of(10)"
   ]
  },
  {
   "cell_type": "markdown",
   "id": "9154e69f-59a0-4b8b-af6c-ed569707c245",
   "metadata": {
    "tags": []
   },
   "source": [
    "## Task 3: Arithmetic sequence and sum\n",
    "\n",
    "Arithmetic sequence is a number sequence, such that the difference $d$ is constant for every consecutive element in the sequence. For example, the sequence\n",
    "\n",
    "$1, 4, 7, 10, \\ldots$ is arithmetic, since the difference between every consecutive element in the sequence is $3$: $10-7 = 7-4 = 4-1=3$.\n",
    "However, sequence\n",
    "\n",
    "$1,3,6,10, \\ldots$ is not arithmetic, since the difference varies: $10-6 = 4$, $6-3=3$ and $3-1=2$.\n",
    "\n",
    "In general, an arithmetic sequence can be defined in the following manner:\n",
    "$a_n = a_0 + (n-1)\\cdot d$\n",
    "where $a_n$ represents the $n^{th}$ element in the sequence, $a_0$ is the first element in the sequence and $d$ is the difference.\n",
    "\n",
    "For example, if $a_1=-4$ and $d=2$, then the sequence will be as follows\n",
    "$$a_1 = -4$$\n",
    "$$a_2 = -4 + (2-1)\\cdot 2= -4 + 2 = -2$$\n",
    "$$a_3 = -4 + ((3-1)\\cdot 2 = -4 + 2\\cdot 2 = -4+4 = 0$$\n",
    "... and so on.\n",
    "\n",
    "Here, your task is to write an algorithm\n",
    "1) That calculates the nth element of the sequence, given the first element, difference and the element index. There are (at least) three different ways of implementing it. Recursive, iterative, using the formula. Try to write all three versions of the same algorithm and then compare the running time of each.\n",
    "2) That calculates the sum of all n elements of the sequence, given the first element, the difference and number n. Again, there are (at least) three different ways to implement the same algorithm. Write the code and then compare."
   ]
  },
  {
   "cell_type": "code",
   "execution_count": 5,
   "id": "a3e97f45-7d63-4510-8910-0d94d1d61a68",
   "metadata": {},
   "outputs": [
    {
     "name": "stdout",
     "output_type": "stream",
     "text": [
      "-2\n",
      "104 ns ± 9.89 ns per loop (mean ± std. dev. of 7 runs, 10,000,000 loops each)\n"
     ]
    }
   ],
   "source": [
    "# 1. Based on the formula --> a_n = a_0 + (n-1) * d\n",
    "\n",
    "def arithmetic_seq_of(a_0, d, n):\n",
    "    a_n = a_0 + (n-1) * d\n",
    "    return a_n\n",
    "\n",
    "print(arithmetic_seq_of(-4,2,2))\n",
    "\n",
    "%timeit arithmetic_seq_of(0, 4, 10)"
   ]
  },
  {
   "cell_type": "code",
   "execution_count": 6,
   "id": "f87b9f47-57c9-4483-acac-f914f7ec66c5",
   "metadata": {},
   "outputs": [
    {
     "name": "stdout",
     "output_type": "stream",
     "text": [
      "-2\n"
     ]
    }
   ],
   "source": [
    "# 2. Iterative Algorithm for Arithmetic Sequences.\n",
    "\n",
    "def iter_arithmetic_seq(a_0, d, n):\n",
    "    for i in range(1,n):\n",
    "        a_0 += d\n",
    "    return a_0\n",
    "print(iter_arithmetic_seq(-4,2,2))"
   ]
  },
  {
   "cell_type": "code",
   "execution_count": 7,
   "id": "c9c3a5f5-71e5-4820-8bb4-0d0ada259516",
   "metadata": {},
   "outputs": [
    {
     "name": "stdout",
     "output_type": "stream",
     "text": [
      "-2\n",
      "230 ns ± 53.1 ns per loop (mean ± std. dev. of 7 runs, 10,000,000 loops each)\n"
     ]
    }
   ],
   "source": [
    "# 3. Recursive Algorithm for Arith\n",
    "\n",
    "def recursive_arithmetic_seq(a_0, d, n):\n",
    "    if n == 1:\n",
    "        return a_0 + d\n",
    "    else:\n",
    "        return recursive_arithmetic_seq(a_0, d, n-1)\n",
    "    \n",
    "print(recursive_arithmetic_seq(-4,2,2))\n",
    "        \n",
    "    \n",
    "%timeit recursive_arithmetic_seq(-4, 2, 2)"
   ]
  },
  {
   "cell_type": "code",
   "execution_count": 8,
   "id": "538c6a39-b388-4400-950f-b40da5c82380",
   "metadata": {},
   "outputs": [
    {
     "name": "stdout",
     "output_type": "stream",
     "text": [
      "99.3 ns ± 6.3 ns per loop (mean ± std. dev. of 7 runs, 10,000,000 loops each)\n",
      "--------------------------------------------------------------------------------\n",
      "2.76 µs ± 59.4 ns per loop (mean ± std. dev. of 7 runs, 100,000 loops each)\n",
      "--------------------------------------------------------------------------------\n",
      "15.6 µs ± 4.48 µs per loop (mean ± std. dev. of 7 runs, 100,000 loops each)\n",
      "--------------------------------------------------------------------------------\n"
     ]
    }
   ],
   "source": [
    "%timeit arithmetic_seq_of(-4,2,100)\n",
    "\n",
    "print(\"-\"*80)\n",
    "\n",
    "%timeit iter_arithmetic_seq(-4,2,100)\n",
    "\n",
    "print(\"-\"*80)\n",
    "\n",
    "%timeit recursive_arithmetic_seq(-4,2,100)\n",
    "\n",
    "print(\"-\"*80)"
   ]
  },
  {
   "cell_type": "markdown",
   "id": "769ce8f2-f252-4384-8115-6f2dc061215e",
   "metadata": {},
   "source": [
    "Task 2. An algorithm that calculates the sum of all n elements of the sequence, given the first element, the difference and number n. Again, there are (at least) three different ways to implement the same algorithm. Write the code and then compare."
   ]
  },
  {
   "cell_type": "code",
   "execution_count": 9,
   "id": "c374c8d2-cee5-43e1-8edc-2e41d4971f65",
   "metadata": {},
   "outputs": [
    {
     "name": "stdout",
     "output_type": "stream",
     "text": [
      "55.0\n"
     ]
    }
   ],
   "source": [
    "# 1. Based on the formula --> When the last term is not known ; Sn = n/2 (2*a +(n-1)*d)\n",
    "#                             When the last term is known ; Sn = n/2 (a1 + n)\n",
    "\n",
    "def arithmetic_sum(a_0, d, n):\n",
    "    return n/2 * (2 * a_0 + (n-1)*d)\n",
    "\n",
    "print(arithmetic_sum(1,1,10))"
   ]
  },
  {
   "cell_type": "code",
   "execution_count": 18,
   "id": "5b3f8dcf-6c1b-4de5-86ce-01491438a829",
   "metadata": {},
   "outputs": [
    {
     "name": "stdout",
     "output_type": "stream",
     "text": [
      "55\n"
     ]
    }
   ],
   "source": [
    "# 2. Iterative Algorithm for Sum of an Arithmetic Sequence\n",
    "\n",
    "def iterative_arithmetic_sum(a_0, d, n):\n",
    "    total = 0\n",
    "    i = 0\n",
    "    while i < n:\n",
    "        total += a_0\n",
    "        a_0 += d\n",
    "        i += 1\n",
    "    return total\n",
    "\n",
    "print(iterative_arithmetic_sum(1,1,10))\n",
    "        "
   ]
  },
  {
   "cell_type": "code",
   "execution_count": 19,
   "id": "72b57ad0-dc1a-4671-a379-b09b243294aa",
   "metadata": {},
   "outputs": [
    {
     "name": "stdout",
     "output_type": "stream",
     "text": [
      "55\n"
     ]
    }
   ],
   "source": [
    "# 3. Recursive Algorithm for Sum of an Arithmetic Sequence\n",
    "\n",
    "def recursive_arithmetic_sum(a_0, d, n):\n",
    "    if n == 0:\n",
    "        return 0\n",
    "    return a_0 + recursive_arithmetic_sum(a_0 + d, d, n - 1 )\n",
    "\n",
    "print(recursive_arithmetic_sum(1,1,10))"
   ]
  },
  {
   "cell_type": "code",
   "execution_count": 20,
   "id": "5d01063b-7b59-42c6-a5f2-eb8bf5eb6015",
   "metadata": {},
   "outputs": [
    {
     "name": "stdout",
     "output_type": "stream",
     "text": [
      "212 ns ± 4.59 ns per loop (mean ± std. dev. of 7 runs, 1,000,000 loops each)\n",
      "--------------------------------------------------------------------------------\n",
      "8.58 µs ± 241 ns per loop (mean ± std. dev. of 7 runs, 100,000 loops each)\n",
      "--------------------------------------------------------------------------------\n",
      "16.5 µs ± 66.7 ns per loop (mean ± std. dev. of 7 runs, 100,000 loops each)\n",
      "--------------------------------------------------------------------------------\n"
     ]
    }
   ],
   "source": [
    "%timeit arithmetic_sum(1,1,100)\n",
    "\n",
    "print(\"-\"*80)\n",
    "\n",
    "%timeit iterative_arithmetic_sum(1,1,100)\n",
    "\n",
    "print(\"-\"*80)\n",
    "\n",
    "%timeit recursive_arithmetic_sum(1,1,100)\n",
    "\n",
    "print(\"-\"*80)"
   ]
  },
  {
   "cell_type": "code",
   "execution_count": null,
   "id": "d4de1657-5e50-48d6-a603-716f9ae4ad47",
   "metadata": {},
   "outputs": [],
   "source": []
  }
 ],
 "metadata": {
  "kernelspec": {
   "display_name": "Python 3 (ipykernel)",
   "language": "python",
   "name": "python3"
  },
  "language_info": {
   "codemirror_mode": {
    "name": "ipython",
    "version": 3
   },
   "file_extension": ".py",
   "mimetype": "text/x-python",
   "name": "python",
   "nbconvert_exporter": "python",
   "pygments_lexer": "ipython3",
   "version": "3.11.1"
  }
 },
 "nbformat": 4,
 "nbformat_minor": 5
}
