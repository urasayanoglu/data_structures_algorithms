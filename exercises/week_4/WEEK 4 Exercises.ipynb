{
 "cells": [
  {
   "cell_type": "markdown",
   "id": "aac028cc-be40-4881-a7fb-2df46e04eebf",
   "metadata": {},
   "source": [
    "## Name: Uras Ayanoglu\n",
    "## Number: 2203334"
   ]
  },
  {
   "cell_type": "markdown",
   "id": "0ad54899-140f-4757-a2ea-135792826ce8",
   "metadata": {},
   "source": [
    "# Tasks for week 4\n",
    "\n",
    "In these exercises, we are going deeper with the idea of recursion and iteration.\n",
    "\n",
    "We will also try to bring in the idea of writing different implementations to the same problem, comparing the efficiency of the different versions. The ultimate goal is not to find every single way of implementation, it is good enough to compare at least two different ways.\n",
    "\n",
    "The aim here is, first of all, to enhance flexible problem solving skills. The most intuitive one is the easiest to implement but probably not the most efficient one. That is why it is necessary to also try discovering other solutions to the same problem."
   ]
  },
  {
   "cell_type": "markdown",
   "id": "539758a5-4604-4f69-a21d-2168d9f9dad8",
   "metadata": {},
   "source": [
    "## Task 1 Palindrome checker\n",
    "\n",
    "A number or a string is s palindrome, if they read the same forwards and backwards.\n",
    "\n",
    "For example 1234321 is a number palindrome and *madam* is a string palindrome.\n",
    "\n",
    "\n",
    "**Your task** is to write an algorithm *isPal(phrase)* that returns **True** if the input is a palindrome and **False** otherwise.\n",
    "\n",
    "There are several ways to implement palindrome checker:\n",
    "1) reverse the original sequence and checking whether the reversed is the same as the original, element by element\n",
    "2) reverse the original and comparing, using string operations (also for numbers)\n",
    "3) comparing the elements from the same place in opposite ends\n",
    "\n",
    "Implement these in the way you find to be most optimal, both in time and space complexity.\n"
   ]
  },
  {
   "cell_type": "code",
   "execution_count": 1,
   "id": "bb716f33-ec60-4088-8d3e-adb669fde703",
   "metadata": {},
   "outputs": [
    {
     "name": "stdout",
     "output_type": "stream",
     "text": [
      "**********\n",
      "False\n",
      "True\n",
      "True\n",
      "**********\n",
      "False\n",
      "True\n",
      "False\n",
      "True\n",
      "**********\n",
      "False\n",
      "True\n",
      "False\n",
      "\n",
      "Runtime comparisons of the functions:\n",
      "\n",
      "isPal function:\n",
      "251 ns ± 11.5 ns per loop (mean ± std. dev. of 7 runs, 1,000,000 loops each)\n",
      "\n",
      "isPal_iter function:\n",
      "1.55 µs ± 64 ns per loop (mean ± std. dev. of 7 runs, 1,000,000 loops each)\n",
      "\n",
      "isPal_3rd function\n",
      "595 ns ± 17.8 ns per loop (mean ± std. dev. of 7 runs, 1,000,000 loops each)\n",
      "\n",
      "isPal_4th function:\n",
      "481 ns ± 6.06 ns per loop (mean ± std. dev. of 7 runs, 1,000,000 loops each)\n"
     ]
    }
   ],
   "source": [
    "def isPal(sample):\n",
    "    return str(sample)[::-1] == str(sample)\n",
    "\n",
    "print(\"*\" * 10)\n",
    "print(isPal(\"masd\"))\n",
    "print(isPal(1234321))\n",
    "print(isPal(\"step on no pets\"))\n",
    "\n",
    "def isPal_iter(sample):\n",
    "    left_to_right = []\n",
    "    right_to_left = []\n",
    "    for item in str(sample):\n",
    "        left_to_right.append(item)\n",
    "    for item in str(sample)[::-1]:\n",
    "        right_to_left.append(item)\n",
    "    for i in range(len(str(sample))):\n",
    "        if left_to_right[i] != right_to_left[i]:\n",
    "            return False\n",
    "        else:\n",
    "            return True\n",
    "print(\"*\" * 10)\n",
    "print(isPal_iter(\"masd\"))       \n",
    "print(isPal_iter(1234321))\n",
    "print(isPal_iter(\"Step on no pets\"))\n",
    "\n",
    "def isPal_3rd(sample):\n",
    "    for i in range(len(str(sample))):\n",
    "        return str(sample)[i] == (str(sample)[::-1])[i]\n",
    "    \n",
    "def isPal_4th(sample):\n",
    "    end = len(sample) - 1\n",
    "    \n",
    "    for i in range(len(sample)//2):\n",
    "        if sample[i] != sample[end - i]:\n",
    "            return False\n",
    "        return True\n",
    "    \n",
    "print(isPal_4th(\"step on no pets\"))\n",
    "\n",
    "print(\"*\" * 10)\n",
    "print(isPal_3rd(\"masd\"))\n",
    "print(isPal_3rd(1234321))\n",
    "print(isPal(\"Step on no pets\"))\n",
    "\n",
    "print(\"\\nRuntime comparisons of the functions:\")\n",
    "\"\"\"\n",
    "print(\"\\nisPal function:\")\n",
    "%timeit isPal(\"step on no pets\")\n",
    "print(\"\\nisPal_iter function:\")\n",
    "%timeit isPal_iter(\"step on no pets\")\n",
    "print(\"\\nisPal_3rd function\")\n",
    "%timeit isPal_3rd(\"step on no pets\")\n",
    "print(\"\\nisPal_4th function:\")\n",
    "%timeit isPal_4th(\"step on no pets\")\"\"\"\n",
    "# %timeit functions are commented out to prevent out of memory issues."
   ]
  },
  {
   "cell_type": "markdown",
   "id": "17a48f2e-80dc-4ead-a12f-bc456155eae2",
   "metadata": {},
   "source": [
    "Runtime comparisons of the functions:\n",
    "\n",
    "isPal function:\n",
    "251 ns ± 11.5 ns per loop (mean ± std. dev. of 7 runs, 1,000,000 loops each)\n",
    "\n",
    "isPal_iter function:\n",
    "1.55 µs ± 64 ns per loop (mean ± std. dev. of 7 runs, 1,000,000 loops each)\n",
    "\n",
    "isPal_3rd function\n",
    "595 ns ± 17.8 ns per loop (mean ± std. dev. of 7 runs, 1,000,000 loops each)\n",
    "\n",
    "isPal_4th function:\n",
    "481 ns ± 6.06 ns per loop (mean ± std. dev. of 7 runs, 1,000,000 loops each)"
   ]
  },
  {
   "cell_type": "markdown",
   "id": "b2b1123f-5853-4804-8131-0d558af78e9b",
   "metadata": {},
   "source": [
    "## Task 2 Array checker\n",
    "\n",
    "Two arrays are considered to be the same, \n",
    "1) if the arrays are of the same length, and\n",
    "2) if same elements occur in both arrays equally frequently. \n",
    "\n",
    "The order of items in the arrays may though vary. For example, the array $[1,2,3,3,4,5,5,5,6]$ is equal to the array $[6,3,2,5,3,1,5,4,5]$, since there is one of 1's, 2's, 4's and 6's in both arrays, two 3's and three 5's. However, arrays $[1,2,3]$ and $[1,2,2]$ are not the same, since the length of both arrays is the same 3, but the last element of the arrays differ.\n",
    "\n",
    "Thus, the algorithm **check(A,B)** should work as follows.\n",
    "\n",
    "### Example 1:\n",
    "**INPUT:**\n",
    "\n",
    "A = [1,2,3,3,4,5,5,5,6]\n",
    "\n",
    "B = [6,3,2,5,3,1,5,4,5]\n",
    "\n",
    "**OUTPUT: ** *True* or *1*\n",
    "\n",
    "**EXPLANATION: ** *All elements occur equally frequently, but are just ordered differently*\n",
    "\n",
    "### Example 2:\n",
    "**INPUT:**\n",
    "\n",
    "A = [1,2,3]\n",
    "\n",
    "B = [1,2,2]\n",
    "\n",
    "**OUTPUT: ** *False* or *0*\n",
    "\n",
    "**EXPLANATION: ** *The last elements are not equal, other elements are.*\n",
    "\n",
    "<span style=\"color:red\"> **Your Task:** Complete check() function which takes both the given array and their size as function arguments and returns true if the arrays are equal else returns false.\n",
    "</span>\n",
    "\n"
   ]
  },
  {
   "cell_type": "code",
   "execution_count": 2,
   "id": "44ad46d6-238f-4116-8474-9770cd8ca1c1",
   "metadata": {},
   "outputs": [
    {
     "name": "stdout",
     "output_type": "stream",
     "text": [
      "False\n"
     ]
    }
   ],
   "source": [
    "def ListEquals(A,B):\n",
    "    A.sort()\n",
    "    return A.sort() == B.sort() # This function may return false Trues\n",
    "\n",
    "def ListEquals_1(A,B):\n",
    "    return sorted(A) == sorted(B)\n",
    "\n",
    "A = [1,2,3,3,4,5,5,5,6]\n",
    "\n",
    "B = [6,3,2,5,3,1,5,4,]\n",
    "\n",
    "print(ListEquals_1(A,B))\n",
    "    "
   ]
  },
  {
   "cell_type": "code",
   "execution_count": 18,
   "id": "cc56fac2-66e6-459b-88c5-a13bcf581193",
   "metadata": {},
   "outputs": [
    {
     "name": "stdout",
     "output_type": "stream",
     "text": [
      "False\n",
      "True\n"
     ]
    }
   ],
   "source": [
    "def check_with_sets(a,b):\n",
    "    if len(a) == len(b):\n",
    "        return set(a) == set(b)\n",
    "    else:\n",
    "        return False\n",
    "\n",
    "A = [\"a\", \"b\", \"c\", \"e\", \"e\"]\n",
    "B = [\"b\", \"c\", \"a\", \"e\"]\n",
    "print(check_with_sets(A,B))\n",
    "\n",
    "C = [\"a\", \"a\", \"b\", \"c\", \"d\", \"e\", \"f\"]\n",
    "D = [\"a\", \"b\", \"c\", \"d\", \"e\", \"f\", \"f\"]\n",
    "print(check_with_sets(C,D)) \n",
    "# Fallback of this algorithm, list C and D have the same size, but list C has two a's whereas list D has 2 f's. It return true whereas it should have returned False!"
   ]
  },
  {
   "cell_type": "code",
   "execution_count": 27,
   "id": "e9b227e7-0304-4dd5-9f7b-62e96b10de38",
   "metadata": {},
   "outputs": [
    {
     "name": "stdout",
     "output_type": "stream",
     "text": [
      "False\n",
      "False\n",
      "True\n",
      "True\n",
      "335 ns ± 18.2 ns per loop (mean ± std. dev. of 7 runs, 1,000,000 loops each)\n"
     ]
    }
   ],
   "source": [
    "A = [\"a\", \"b\", \"c\", \"e\"]\n",
    "B = [\"b\", \"c\", \"d\", \"e\"]\n",
    "C = \"Hello Neighbor!\"\n",
    "D = \"Hello Neighbour!\"\n",
    "E = (1,2,3,4,5,6,7,8,9)\n",
    "F = (9,8,7,6,5,4,3,2,1)\n",
    "H = {0, 2, 4, 6, 8, 8, 10} # When a set variable creation, by its nature, repeated elements will be removed automatically \n",
    "I = {0, 2, 4, 6, 8, 10}\n",
    "\n",
    "def check_array(a,b):\n",
    "    if len(a) ==  len(b):\n",
    "        for item in a:\n",
    "            if item not in b:\n",
    "                return False\n",
    "        dict_a = {}\n",
    "        dict_b = {}\n",
    "        for item in a:\n",
    "            dict_a[item] = dict_a.get(item, 0) + 1\n",
    "        for item in b:\n",
    "            dict_b[item] = dict_b.get(item, 0) + 1\n",
    "        res = all((dict_a.get(k) == v for k, v in dict_b.items()))\n",
    "        return res\n",
    "    else:\n",
    "        return False\n",
    "    \n",
    "print(check_array(A,B))\n",
    "print(check_array(C,D))\n",
    "print(check_array(E,F))\n",
    "print(check_array(H,I))\n",
    "\n",
    "%timeit check_array(A,B)"
   ]
  },
  {
   "cell_type": "code",
   "execution_count": 24,
   "id": "28f922ea-34b3-4143-a39b-8ba96f912f45",
   "metadata": {},
   "outputs": [
    {
     "name": "stdout",
     "output_type": "stream",
     "text": [
      "False\n"
     ]
    }
   ],
   "source": [
    "array1 = [\"a\", \"b\", \"c\", \"e\", \"e\"]\n",
    "array2 = [\"b\", \"c\", \"a\", \"e\"]\n",
    "\n",
    "\n",
    "def check_array3rd(A,B):\n",
    "    dict_A = {}\n",
    "    dict_B = {}\n",
    "    \n",
    "    for i in range(len(A)):\n",
    "        dict_A[A[i]] = A.count(A[i])\n",
    "    \n",
    "    for i in range(len(B)):\n",
    "        dict_B[B[i]] = B.count(B[i])\n",
    "    \n",
    "    return dict_A == dict_B\n",
    "    \n",
    "\n",
    "print(check_array3rd(array1,array2))\n"
   ]
  },
  {
   "cell_type": "markdown",
   "id": "dd33685e-fb64-4d5b-bb11-6b2e5a705bf2",
   "metadata": {},
   "source": [
    "## Task 3: Copying a string\n",
    "\n",
    "This algorithm takes two strings as input. The algorithm copies the first string to the other, as in the following examples:\n",
    "\n",
    "**INPUT:**\n",
    "\n",
    "s1 = \"hello\"\n",
    "\n",
    "s2 = \"world\"\n",
    "\n",
    "**OUTPUT: **\n",
    "\n",
    "s1 = \"hello\"\n",
    "\n",
    "s2 = \"hello\"\n",
    "\n",
    "or\n",
    "\n",
    "**INPUT: **\n",
    "\n",
    "s1 = \"chuck norris\"\n",
    "\n",
    "s2 = \" \"\n",
    "\n",
    "**OUTPUT: **\n",
    "\n",
    "s1 = \"chuck norris\"\n",
    "\n",
    "s2 = \"chuck norris\"\n",
    "\n",
    "### Your task\n",
    "\n",
    "Implement the copying algorithm in different ways using iteration and recursion. You can also try to find other ways of copying a string **without harming the original string**. Compare the algorithms in terms of running time.\n"
   ]
  },
  {
   "cell_type": "code",
   "execution_count": 11,
   "id": "7703101a-cb89-40ae-8b4b-0af062bd41c0",
   "metadata": {},
   "outputs": [
    {
     "name": "stdout",
     "output_type": "stream",
     "text": [
      "Chuck Norris \n",
      "('Chuck Norris', 'Chuck Norris')\n",
      "Chuck Norris \n",
      "uras\n"
     ]
    }
   ],
   "source": [
    "s1 = \"Chuck Norris\"\n",
    "s2 = \"\"\n",
    "\n",
    "def copy_string(s1, s2):\n",
    "    s3 = \"\"\n",
    "    for letter in s1:\n",
    "        s3 += letter\n",
    "    return s1, s3\n",
    "\n",
    "print(s1, s2)\n",
    "print(copy_string(s1, s2))\n",
    "\n",
    "\n",
    "# if len(str1) <= 1:\n",
    "#    return str1\n",
    "#else:\n",
    "# return f(str]1:) + str10\n",
    "\n",
    "def copy_string_recursive(s1, s2):\n",
    "    if len(s1) == 0 or len(s1) == 1:\n",
    "        return s1[0]\n",
    "    else:\n",
    "        s2 = s1[0] + copy_string_recursive(s1[1:],s2)\n",
    "    return s2\n",
    "\n",
    "print(s1,s2)\n",
    "print(copy_string_recursive(s1,s2))\n",
    "\n",
    "\n",
    "    "
   ]
  },
  {
   "cell_type": "markdown",
   "id": "7b10a44b-1ad7-44c9-a965-c3801bdb17b0",
   "metadata": {},
   "source": [
    "## Task 4: kth smallest element\n",
    "\n",
    "Suppose that you are given an integer array of size $n$. The algorithm takes the array as input, natural number $k<n$ as another input, and returns the kth smallest element in the list and the index of the first occurrence of this item.\n",
    "\n",
    "As an example, consider array A = [3,6,4,7,2,4,6,8]. If k=3, you are supposed to find the third smallest element in the array. The output of the algorithm with input A and 3 should be (4, 2), since 2 is the smallest element in the array, the second smallest is 3 with index 0, and the third smallest is 4 at index position 2.\n",
    "\n",
    "Implement this algorithm in different ways (recirsive) and compare different implementation runtimes."
   ]
  },
  {
   "cell_type": "code",
   "execution_count": 14,
   "id": "316760f6-552b-4b88-bfc3-e81dedeed151",
   "metadata": {},
   "outputs": [
    {
     "name": "stdout",
     "output_type": "stream",
     "text": [
      "(6, 1)\n",
      "('d', 5)\n"
     ]
    }
   ],
   "source": [
    "def nth_smallest_element(array, n):\n",
    "    m = sorted(set(array)) \n",
    "    \n",
    "    if n > len(m):\n",
    "        print(\"Invalid indexing.\")\n",
    "    else:\n",
    "        result = m[n-1]\n",
    "        position_in_array = array.index(result)\n",
    "    \n",
    "    return (result, position_in_array)\n",
    "\n",
    "A = [3,6,4,7,2,4,6,8]\n",
    "B = \"interdisciplinary\"\n",
    "print(nth_smallest_element(A,4))\n",
    "print(nth_smallest_element(B,3))"
   ]
  },
  {
   "cell_type": "markdown",
   "id": "a6a09551-c504-4ca0-905f-7e8d57d0027e",
   "metadata": {},
   "source": [
    "## Task 5: Longest common prefix\n",
    "\n",
    "Consider having a set of strings. Your task is to find the longest common prefix in the set of these strings, i.e. a substring which is at the beginning of each string and is the longest common such substring.\n",
    "\n",
    "### Example\n",
    "\n",
    "Let the set of strings consist of words *autokauppa*, *autonkuljettaja*, *auttaja* ja *aurinko*.\n",
    "The algorithm takes these four strings as input.\n",
    "\n",
    "The two first strings share **auto** as a common prefix: **auto**kauppa, **auto**nkuljettaja.\n",
    "\n",
    "However, *auttaja* does not begin with **auto**, but has **aut** in the beginning. Thus, the longest common prefix of these three words would be **aut**.\n",
    "\n",
    "The fourth word does not have **aut** as its prefix. However, **au** is a common prefix of all four words.\n",
    "\n",
    "Thus, the output for the words *autokauppa*, *autonkuljettaja*, *auttaja* and *aurinko* is **au**.\n",
    "\n",
    "### Your task\n",
    "\n",
    "Implement the algorithm lcp(strings) taking an array of strings as input. The algorithm returns the longest common prefix of the strings in the array. Consider different implementations of the same algorithm (recursive and iterative, char by char matching,...) and compare their runtimes."
   ]
  },
  {
   "cell_type": "code",
   "execution_count": 21,
   "id": "405dd093-73a6-4fdc-ac79-ddcf0bf44816",
   "metadata": {},
   "outputs": [
    {
     "name": "stdout",
     "output_type": "stream",
     "text": [
      "sc\n"
     ]
    }
   ],
   "source": [
    "def longest_common_prefix(strs):\n",
    "    if len(strs) == 0:\n",
    "        return \"\"\n",
    "    current = strs[0]\n",
    "    for i in range(1,len(strs)):\n",
    "        temp = \"\"\n",
    "        if len(current) == 0:\n",
    "            break\n",
    "        for j in range(len(strs[i])):\n",
    "            if j<len(current) and current[j] == strs[i][j]:\n",
    "                temp+=current[j]\n",
    "            else:\n",
    "                break\n",
    "        current = temp\n",
    "    return current\n",
    "\n",
    "input_list = [\"school\",\"schedule\",\"scotland\"]\n",
    "\n",
    "print(longest_common_prefix(input_list))"
   ]
  },
  {
   "cell_type": "code",
   "execution_count": null,
   "id": "6148d4d8-bd7b-4401-a29b-f0922e5914f3",
   "metadata": {},
   "outputs": [],
   "source": []
  }
 ],
 "metadata": {
  "kernelspec": {
   "display_name": "Python 3 (ipykernel)",
   "language": "python",
   "name": "python3"
  },
  "language_info": {
   "codemirror_mode": {
    "name": "ipython",
    "version": 3
   },
   "file_extension": ".py",
   "mimetype": "text/x-python",
   "name": "python",
   "nbconvert_exporter": "python",
   "pygments_lexer": "ipython3",
   "version": "3.11.1"
  }
 },
 "nbformat": 4,
 "nbformat_minor": 5
}
