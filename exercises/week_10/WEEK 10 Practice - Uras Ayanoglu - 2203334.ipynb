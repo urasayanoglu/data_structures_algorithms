{
 "cells": [
  {
   "attachments": {},
   "cell_type": "markdown",
   "id": "40e2c597",
   "metadata": {},
   "source": [
    "## Name: Uras Ayanoglu - PTIVIS21S \n",
    "## Number: 2203334 "
   ]
  },
  {
   "cell_type": "markdown",
   "id": "b41213a7-6a22-43af-b251-1cb45c237c60",
   "metadata": {},
   "source": [
    "# WEEK 10 Practice - Working with BST\n",
    "\n",
    "In this week practice, you can use the Python implementation from lectures to complete the tasks given below."
   ]
  },
  {
   "cell_type": "code",
   "execution_count": 63,
   "id": "2781920c-6740-4929-b061-027fa14aff82",
   "metadata": {},
   "outputs": [],
   "source": [
    "from graphviz import Digraph\n",
    "from IPython.display import SVG\n",
    "from collections import deque\n",
    "\n",
    "\n",
    "'''\n",
    "graphviz and ipython.display are used to visualize the generated tree.\n",
    "\n",
    "This code defines a Node data structure with attributes value, left and right. Value is the integer value stored in node. \n",
    "Attribute left is a pointer to the left child of a node, once initialized it's None.\n",
    "Attribute right is a pointer to the right child, correspondingly.\n",
    "\n",
    "The Binary Search Tree (BST) data structure is a tree consisting of nodes. The left sub-tree consists of all values less than \n",
    "the value of the node, the right sub-tree of all values greater than the current node value.\n",
    "\n",
    "The BST data structure has functions:\n",
    "* add a node\n",
    "* delete a node\n",
    "* search a node\n",
    "* preorder traversal (DF traversal)\n",
    "* inorder traversal (DF traversal)\n",
    "* postorder traversal (DF traversal)\n",
    "* print for all traverlsal types\n",
    "* visualise for graphical print\n",
    "'''\n",
    "\n",
    "class Node:\n",
    "    def __init__(self,value):\n",
    "        self.value = value\n",
    "        self.left = None\n",
    "        self.right = None\n",
    "        \n",
    "class BST:\n",
    "    def __init__(self):\n",
    "        self.root = None\n",
    "        \n",
    "    def _add(self, current, value):\n",
    "        \n",
    "        if self.root == None:\n",
    "            self.root = Node(value)\n",
    "        else:\n",
    "            if value < current.value:\n",
    "                if current.left == None:\n",
    "                    current.left = Node(value)\n",
    "                else:\n",
    "                    self._add(current.left, value)\n",
    "            else:\n",
    "                if current.right == None:\n",
    "                    current.right = Node(value)\n",
    "                else:\n",
    "                    self._add(current.right, value)\n",
    "      \n",
    "    def add(self, value):\n",
    "        new_node = Node(value)\n",
    "        \n",
    "        if self.root == None:\n",
    "            self.root = new_node\n",
    "            \n",
    "        else:\n",
    "             self._add(self.root, value)\n",
    "    \n",
    "    def delete(self,root, key):\n",
    "        \"\"\"\n",
    "        Delete a node with the given key from a binary search tree.\n",
    "\n",
    "        :param root: The root of the binary search tree.\n",
    "        :param key: The value of the node to be deleted.\n",
    "        :return: The new root of the binary search tree.\n",
    "        \"\"\"\n",
    "        if not root:\n",
    "            return None\n",
    "\n",
    "        if key < root.value:\n",
    "            root.left = self.delete(root.left, key)\n",
    "        elif key > root.value:\n",
    "            root.right = self.delete(root.right, key)\n",
    "        else:\n",
    "            if not root.left:\n",
    "                return root.right\n",
    "            elif not root.right:\n",
    "                return root.left\n",
    "            else:\n",
    "                temp = self.find_min(root.right)\n",
    "                root.value = temp.value\n",
    "                root.right = self.delete(root.right, temp.value)\n",
    "\n",
    "        return root\n",
    "\n",
    "    def find_min(self,root):\n",
    "        while root.left:\n",
    "            root = root.left\n",
    "        return root\n",
    "    \n",
    "    def find_max(self,root):\n",
    "        while root.right:\n",
    "            root = root.right\n",
    "        return root\n",
    "    \n",
    "    def find_height(self,root):\n",
    "        if root is None:\n",
    "            return -1\n",
    "        left_height = self.find_height(root.left)\n",
    "        right_height = self.find_height(root.right)\n",
    "        return 1 + max(left_height, right_height)\n",
    "    \n",
    "    def find_depth(self,root, key, depth=0):\n",
    "        if root is None:\n",
    "            return -1\n",
    "        if root.value == key:\n",
    "            return depth\n",
    "        if root.value > key:\n",
    "            return self.find_depth(root.left, key, depth+1)\n",
    "        else:\n",
    "            return self.find_depth(root.right, key, depth+1)\n",
    "        \n",
    "    # returns a node whose value == input value\n",
    "    # if no node with input value is found, None is returned\n",
    "    def _search(self, node, value):\n",
    "        if node is None or node.value == value:\n",
    "            return node          \n",
    "        \n",
    "        if value < node.value:\n",
    "            return self._search(node.left, value)\n",
    "        else:\n",
    "            return self._search(node.right,value) \n",
    "        \n",
    "    # prints the result of search: does a node with input value exist in the BST or not                   \n",
    "    def search(self, value):\n",
    "        result = self._search(self.root,value)\n",
    "        \n",
    "        if result is None:\n",
    "            print(f\"NO node with value {value} found in BST!\")\n",
    "        elif result.value == value:\n",
    "            print(f\"YES, a node with value {value} found in BST!\")\n",
    "    \n",
    "    \n",
    "    # visiting = print the value of the node\n",
    "    def visit(self, node):\n",
    "        print(node.value)\n",
    "    \n",
    "    # There are different types of in-depth traversals: pre-order, in-order and post-order\n",
    "    # Here's an algorithm for all those\n",
    "    \n",
    "    # pre-order traversal\n",
    "    def preorder(self, current):\n",
    "        if current is not None:\n",
    "            self.visit(current)\n",
    "            self.preorder(current.left)\n",
    "            self.preorder(current.right)\n",
    "        \n",
    "    def preprint(self):\n",
    "        self.preorder(self.root)\n",
    "\n",
    "    # inorder traversal\n",
    "    def inorder(self, current):\n",
    "        if current is not None:\n",
    "            self.inorder(current.left)\n",
    "            self.visit(current)\n",
    "            self.inorder(current.right)\n",
    "    \n",
    "    def inprint(self):\n",
    "        self.inorder(self.root)\n",
    "\n",
    "    #postorder traversal\n",
    "    def postorder(self, current):\n",
    "        if current is not None:\n",
    "            self.postorder(current.left)\n",
    "            self.postorder(current.right)\n",
    "            self.visit(current)\n",
    "            \n",
    "    def postprint(self):\n",
    "        self.postorder(self.root)\n",
    "    \n",
    "    def level_order_traversal(self,root):\n",
    "        \"\"\"\n",
    "        Perform level-order traversal on a binary tree.\n",
    "\n",
    "        :param root: The root of the binary tree.\n",
    "        :return: A list containing the values in the binary tree in level-order traversal order.\n",
    "        \"\"\"\n",
    "        if not root:\n",
    "            return []\n",
    "\n",
    "        res = []\n",
    "        q = deque([root])\n",
    "\n",
    "        while q:\n",
    "            level_size = len(q)\n",
    "            level_vals = []\n",
    "            for _ in range(level_size):\n",
    "                node = q.popleft()\n",
    "                level_vals.append(node.value)\n",
    "                if node.left:\n",
    "                    q.append(node.left)\n",
    "                if node.right:\n",
    "                    q.append(node.right)\n",
    "            res.append(level_vals)\n",
    "\n",
    "        return res\n",
    "    # Write an algorithm for finding the predecessor of a node in BST\n",
    "    def predecessor(self,root, key):\n",
    "        if root is None:\n",
    "            return None\n",
    "        if root.value == key:\n",
    "            if root.left:\n",
    "                return self.find_max(root.left)\n",
    "            else:\n",
    "                return None\n",
    "        if root.value > key:\n",
    "            return self.predecessor(root.left, key)\n",
    "        else:\n",
    "            right = self.predecessor(root.right, key)\n",
    "            if right:\n",
    "                return right\n",
    "            else:\n",
    "                return root\n",
    "            \n",
    "    # Write an algorithm for finding the successor of a node in BST\n",
    "    def successor(self,root, key):\n",
    "        if root is None:\n",
    "            return None\n",
    "        if root.value == key:\n",
    "            if root.right:\n",
    "                return self.find_min(root.right)\n",
    "            else:\n",
    "                return None\n",
    "        if root.value < key:\n",
    "            return self.successor(root.right, key)\n",
    "        else:\n",
    "            left = self.successor(root.left, key)\n",
    "            if left:\n",
    "                return left\n",
    "            else:\n",
    "                return root\n",
    "            \n",
    "            \n",
    "    def levelprint(self):\n",
    "        levellist = self.level_order_traversal(self.root)\n",
    "        for item in levellist:\n",
    "            print(item)\n",
    "                \n",
    "    # visualize the BST with graphviz digraph\n",
    "    def visualize(self):\n",
    "        dot = Digraph(comment='Binary Tree')\n",
    "        \n",
    "        def add_nodes_edges(node):\n",
    "            if node is None:\n",
    "                return\n",
    "            dot.node(str(node.value), str(node.value))\n",
    "            if node.left is not None:\n",
    "                dot.edge(str(node.value), str(node.left.value))\n",
    "                add_nodes_edges(node.left)\n",
    "            if node.right is not None:\n",
    "                dot.edge(str(node.value), str(node.right.value))\n",
    "                add_nodes_edges(node.right)\n",
    "        \n",
    "        add_nodes_edges(self.root)\n",
    "        return SVG(dot.pipe(format='svg'))\n",
    "\n",
    "\n",
    "# Driver code here!"
   ]
  },
  {
   "cell_type": "markdown",
   "id": "ed75a691-897f-419d-97c6-b1b5fafeefb0",
   "metadata": {},
   "source": [
    "# Task 1 - Create a BST object and add values to BST\n",
    "\n",
    "In this task, you should first generate an instance of a new BST.\n",
    "\n",
    "Then add elements **7, 10, 3, 6, 12, 15, 2, 5, 11** to the BST in this order.\n",
    "\n",
    "Use the *visualize* algorithm to show the generated BST."
   ]
  },
  {
   "cell_type": "code",
   "execution_count": 64,
   "id": "9b2147a9",
   "metadata": {},
   "outputs": [
    {
     "data": {
      "image/svg+xml": "<svg xmlns=\"http://www.w3.org/2000/svg\" xmlns:xlink=\"http://www.w3.org/1999/xlink\" width=\"278pt\" height=\"260pt\" viewBox=\"0.00 0.00 278.00 260.00\">\n<g id=\"graph0\" class=\"graph\" transform=\"scale(1 1) rotate(0) translate(4 256)\">\n<polygon fill=\"white\" stroke=\"none\" points=\"-4,4 -4,-256 274,-256 274,4 -4,4\"/>\n<!-- 7 -->\n<g id=\"node1\" class=\"node\">\n<title>7</title>\n<ellipse fill=\"none\" stroke=\"black\" cx=\"135\" cy=\"-234\" rx=\"27\" ry=\"18\"/>\n<text text-anchor=\"middle\" x=\"135\" y=\"-230.3\" font-family=\"Times,serif\" font-size=\"14.00\">7</text>\n</g>\n<!-- 3 -->\n<g id=\"node2\" class=\"node\">\n<title>3</title>\n<ellipse fill=\"none\" stroke=\"black\" cx=\"99\" cy=\"-162\" rx=\"27\" ry=\"18\"/>\n<text text-anchor=\"middle\" x=\"99\" y=\"-158.3\" font-family=\"Times,serif\" font-size=\"14.00\">3</text>\n</g>\n<!-- 7&#45;&gt;3 -->\n<g id=\"edge1\" class=\"edge\">\n<title>7-&gt;3</title>\n<path fill=\"none\" stroke=\"black\" d=\"M126.65,-216.76C122.42,-208.55 117.19,-198.37 112.42,-189.09\"/>\n<polygon fill=\"black\" stroke=\"black\" points=\"115.68,-187.79 108,-180.49 109.46,-190.99 115.68,-187.79\"/>\n</g>\n<!-- 10 -->\n<g id=\"node6\" class=\"node\">\n<title>10</title>\n<ellipse fill=\"none\" stroke=\"black\" cx=\"171\" cy=\"-162\" rx=\"27\" ry=\"18\"/>\n<text text-anchor=\"middle\" x=\"171\" y=\"-158.3\" font-family=\"Times,serif\" font-size=\"14.00\">10</text>\n</g>\n<!-- 7&#45;&gt;10 -->\n<g id=\"edge5\" class=\"edge\">\n<title>7-&gt;10</title>\n<path fill=\"none\" stroke=\"black\" d=\"M143.35,-216.76C147.58,-208.55 152.81,-198.37 157.58,-189.09\"/>\n<polygon fill=\"black\" stroke=\"black\" points=\"160.54,-190.99 162,-180.49 154.32,-187.79 160.54,-190.99\"/>\n</g>\n<!-- 2 -->\n<g id=\"node3\" class=\"node\">\n<title>2</title>\n<ellipse fill=\"none\" stroke=\"black\" cx=\"27\" cy=\"-90\" rx=\"27\" ry=\"18\"/>\n<text text-anchor=\"middle\" x=\"27\" y=\"-86.3\" font-family=\"Times,serif\" font-size=\"14.00\">2</text>\n</g>\n<!-- 3&#45;&gt;2 -->\n<g id=\"edge2\" class=\"edge\">\n<title>3-&gt;2</title>\n<path fill=\"none\" stroke=\"black\" d=\"M84.08,-146.5C74.23,-136.92 61.14,-124.19 49.97,-113.34\"/>\n<polygon fill=\"black\" stroke=\"black\" points=\"52.59,-111 42.98,-106.54 47.71,-116.02 52.59,-111\"/>\n</g>\n<!-- 6 -->\n<g id=\"node4\" class=\"node\">\n<title>6</title>\n<ellipse fill=\"none\" stroke=\"black\" cx=\"99\" cy=\"-90\" rx=\"27\" ry=\"18\"/>\n<text text-anchor=\"middle\" x=\"99\" y=\"-86.3\" font-family=\"Times,serif\" font-size=\"14.00\">6</text>\n</g>\n<!-- 3&#45;&gt;6 -->\n<g id=\"edge3\" class=\"edge\">\n<title>3-&gt;6</title>\n<path fill=\"none\" stroke=\"black\" d=\"M99,-143.7C99,-136.41 99,-127.73 99,-119.54\"/>\n<polygon fill=\"black\" stroke=\"black\" points=\"102.5,-119.62 99,-109.62 95.5,-119.62 102.5,-119.62\"/>\n</g>\n<!-- 5 -->\n<g id=\"node5\" class=\"node\">\n<title>5</title>\n<ellipse fill=\"none\" stroke=\"black\" cx=\"99\" cy=\"-18\" rx=\"27\" ry=\"18\"/>\n<text text-anchor=\"middle\" x=\"99\" y=\"-14.3\" font-family=\"Times,serif\" font-size=\"14.00\">5</text>\n</g>\n<!-- 6&#45;&gt;5 -->\n<g id=\"edge4\" class=\"edge\">\n<title>6-&gt;5</title>\n<path fill=\"none\" stroke=\"black\" d=\"M99,-71.7C99,-64.41 99,-55.73 99,-47.54\"/>\n<polygon fill=\"black\" stroke=\"black\" points=\"102.5,-47.62 99,-37.62 95.5,-47.62 102.5,-47.62\"/>\n</g>\n<!-- 12 -->\n<g id=\"node7\" class=\"node\">\n<title>12</title>\n<ellipse fill=\"none\" stroke=\"black\" cx=\"171\" cy=\"-90\" rx=\"27\" ry=\"18\"/>\n<text text-anchor=\"middle\" x=\"171\" y=\"-86.3\" font-family=\"Times,serif\" font-size=\"14.00\">12</text>\n</g>\n<!-- 10&#45;&gt;12 -->\n<g id=\"edge6\" class=\"edge\">\n<title>10-&gt;12</title>\n<path fill=\"none\" stroke=\"black\" d=\"M171,-143.7C171,-136.41 171,-127.73 171,-119.54\"/>\n<polygon fill=\"black\" stroke=\"black\" points=\"174.5,-119.62 171,-109.62 167.5,-119.62 174.5,-119.62\"/>\n</g>\n<!-- 11 -->\n<g id=\"node8\" class=\"node\">\n<title>11</title>\n<ellipse fill=\"none\" stroke=\"black\" cx=\"171\" cy=\"-18\" rx=\"27\" ry=\"18\"/>\n<text text-anchor=\"middle\" x=\"171\" y=\"-14.3\" font-family=\"Times,serif\" font-size=\"14.00\">11</text>\n</g>\n<!-- 12&#45;&gt;11 -->\n<g id=\"edge7\" class=\"edge\">\n<title>12-&gt;11</title>\n<path fill=\"none\" stroke=\"black\" d=\"M171,-71.7C171,-64.41 171,-55.73 171,-47.54\"/>\n<polygon fill=\"black\" stroke=\"black\" points=\"174.5,-47.62 171,-37.62 167.5,-47.62 174.5,-47.62\"/>\n</g>\n<!-- 15 -->\n<g id=\"node9\" class=\"node\">\n<title>15</title>\n<ellipse fill=\"none\" stroke=\"black\" cx=\"243\" cy=\"-18\" rx=\"27\" ry=\"18\"/>\n<text text-anchor=\"middle\" x=\"243\" y=\"-14.3\" font-family=\"Times,serif\" font-size=\"14.00\">15</text>\n</g>\n<!-- 12&#45;&gt;15 -->\n<g id=\"edge8\" class=\"edge\">\n<title>12-&gt;15</title>\n<path fill=\"none\" stroke=\"black\" d=\"M185.92,-74.5C195.77,-64.92 208.86,-52.19 220.03,-41.34\"/>\n<polygon fill=\"black\" stroke=\"black\" points=\"222.29,-44.02 227.02,-34.54 217.41,-39 222.29,-44.02\"/>\n</g>\n</g>\n</svg>",
      "text/plain": [
       "<IPython.core.display.SVG object>"
      ]
     },
     "execution_count": 64,
     "metadata": {},
     "output_type": "execute_result"
    }
   ],
   "source": [
    "# Create a BST object and add elements of 7,10,3,6,12,15,2,5,11\n",
    "\n",
    "bst = BST()\n",
    "bst.add(7)\n",
    "bst.add(10)\n",
    "bst.add(3)\n",
    "bst.add(6)\n",
    "bst.add(12)\n",
    "bst.add(15)\n",
    "bst.add(2)\n",
    "bst.add(5)\n",
    "bst.add(11)\n",
    "\n",
    "bst.visualize()"
   ]
  },
  {
   "cell_type": "markdown",
   "id": "1240ca02-b000-4930-8598-243c5b1984f2",
   "metadata": {},
   "source": [
    "# Task 2 - Search items in BST\n",
    "\n",
    "In this task, you should search for this items in your BST:\n",
    "* 6 (positive result)\n",
    "* 5 (positive result)\n",
    "* 13 (negative result)\n",
    "* 4 (negative result)\n",
    "\n",
    "You should also search for the minimum and maximum value in the tree using the tree search / traversal algorithms. In other words, write an algorithm that returns the minimum value of the tree, and another algorithm for finding the maximum value."
   ]
  },
  {
   "cell_type": "code",
   "execution_count": 65,
   "id": "c3dbef51",
   "metadata": {},
   "outputs": [
    {
     "name": "stdout",
     "output_type": "stream",
     "text": [
      "YES, a node with value 6 found in BST!\n",
      "YES, a node with value 5 found in BST!\n",
      "NO node with value 13 found in BST!\n",
      "NO node with value 4 found in BST!\n",
      "\n",
      "Min value in BST is: 2\n",
      "Max value in BST is: 15\n"
     ]
    }
   ],
   "source": [
    "# Search for 6, 5, 13, and 4 in bst object\n",
    "\n",
    "bst.search(6)\n",
    "bst.search(5)\n",
    "bst.search(13)\n",
    "bst.search(4)\n",
    "\n",
    "# An algorithm that searches the maximum value in BST and returns the value\n",
    "\n",
    "print(f\"\\nMin value in BST is:\", bst.find_min(bst.root).value)\n",
    "\n",
    "print(f\"Max value in BST is:\", bst.find_max(bst.root).value) # I added the find_max function in BST class!\n"
   ]
  },
  {
   "cell_type": "markdown",
   "id": "a267dd9f-404b-40ed-a8dc-0b5ee77fd1de",
   "metadata": {},
   "source": [
    "# Task 3 - Depth and height algorithm\n",
    "\n",
    "An algorithm telling the height or the depth of a node are still missing from the BST implementation.\n",
    "\n",
    "Write an algorithm for those and demonstrate the use of those algorithms for the root, a leaf and some internal node in your BST."
   ]
  },
  {
   "cell_type": "code",
   "execution_count": 66,
   "id": "087a67ea",
   "metadata": {},
   "outputs": [
    {
     "name": "stdout",
     "output_type": "stream",
     "text": [
      "\n",
      "Height of BST is: 3\n",
      "Depth of 6 is: 2\n"
     ]
    }
   ],
   "source": [
    "# I added the depth and height algorithms in BST class!\n",
    "\n",
    "print(f\"\\nHeight of BST is:\", bst.find_height(bst.root))\n",
    "\n",
    "print(f\"Depth of 6 is:\", bst.find_depth(bst.root, 6))"
   ]
  },
  {
   "cell_type": "markdown",
   "id": "6b87765c-d83e-44cc-a3dd-9f061b56225c",
   "metadata": {},
   "source": [
    "# Task 4 - Deleting nodes from the BST\n",
    "\n",
    "Choose three nodes from your tree such that:\n",
    "* one of the nodes is a leaf\n",
    "* one of the nodes has only one child\n",
    "* one of the nodes has two children\n",
    "\n",
    "Delete those nodes and after each deletion, visualise the new BST with the visualize() algorithm.\n",
    "Describe, with your own words, how the deletion algorithm works in these three different cases."
   ]
  },
  {
   "cell_type": "code",
   "execution_count": 67,
   "id": "4cadb372",
   "metadata": {},
   "outputs": [
    {
     "data": {
      "image/svg+xml": "<svg xmlns=\"http://www.w3.org/2000/svg\" xmlns:xlink=\"http://www.w3.org/1999/xlink\" width=\"278pt\" height=\"260pt\" viewBox=\"0.00 0.00 278.00 260.00\">\n<g id=\"graph0\" class=\"graph\" transform=\"scale(1 1) rotate(0) translate(4 256)\">\n<polygon fill=\"white\" stroke=\"none\" points=\"-4,4 -4,-256 274,-256 274,4 -4,4\"/>\n<!-- 7 -->\n<g id=\"node1\" class=\"node\">\n<title>7</title>\n<ellipse fill=\"none\" stroke=\"black\" cx=\"135\" cy=\"-234\" rx=\"27\" ry=\"18\"/>\n<text text-anchor=\"middle\" x=\"135\" y=\"-230.3\" font-family=\"Times,serif\" font-size=\"14.00\">7</text>\n</g>\n<!-- 3 -->\n<g id=\"node2\" class=\"node\">\n<title>3</title>\n<ellipse fill=\"none\" stroke=\"black\" cx=\"99\" cy=\"-162\" rx=\"27\" ry=\"18\"/>\n<text text-anchor=\"middle\" x=\"99\" y=\"-158.3\" font-family=\"Times,serif\" font-size=\"14.00\">3</text>\n</g>\n<!-- 7&#45;&gt;3 -->\n<g id=\"edge1\" class=\"edge\">\n<title>7-&gt;3</title>\n<path fill=\"none\" stroke=\"black\" d=\"M126.65,-216.76C122.42,-208.55 117.19,-198.37 112.42,-189.09\"/>\n<polygon fill=\"black\" stroke=\"black\" points=\"115.68,-187.79 108,-180.49 109.46,-190.99 115.68,-187.79\"/>\n</g>\n<!-- 10 -->\n<g id=\"node6\" class=\"node\">\n<title>10</title>\n<ellipse fill=\"none\" stroke=\"black\" cx=\"171\" cy=\"-162\" rx=\"27\" ry=\"18\"/>\n<text text-anchor=\"middle\" x=\"171\" y=\"-158.3\" font-family=\"Times,serif\" font-size=\"14.00\">10</text>\n</g>\n<!-- 7&#45;&gt;10 -->\n<g id=\"edge5\" class=\"edge\">\n<title>7-&gt;10</title>\n<path fill=\"none\" stroke=\"black\" d=\"M143.35,-216.76C147.58,-208.55 152.81,-198.37 157.58,-189.09\"/>\n<polygon fill=\"black\" stroke=\"black\" points=\"160.54,-190.99 162,-180.49 154.32,-187.79 160.54,-190.99\"/>\n</g>\n<!-- 2 -->\n<g id=\"node3\" class=\"node\">\n<title>2</title>\n<ellipse fill=\"none\" stroke=\"black\" cx=\"27\" cy=\"-90\" rx=\"27\" ry=\"18\"/>\n<text text-anchor=\"middle\" x=\"27\" y=\"-86.3\" font-family=\"Times,serif\" font-size=\"14.00\">2</text>\n</g>\n<!-- 3&#45;&gt;2 -->\n<g id=\"edge2\" class=\"edge\">\n<title>3-&gt;2</title>\n<path fill=\"none\" stroke=\"black\" d=\"M84.08,-146.5C74.23,-136.92 61.14,-124.19 49.97,-113.34\"/>\n<polygon fill=\"black\" stroke=\"black\" points=\"52.59,-111 42.98,-106.54 47.71,-116.02 52.59,-111\"/>\n</g>\n<!-- 6 -->\n<g id=\"node4\" class=\"node\">\n<title>6</title>\n<ellipse fill=\"none\" stroke=\"black\" cx=\"99\" cy=\"-90\" rx=\"27\" ry=\"18\"/>\n<text text-anchor=\"middle\" x=\"99\" y=\"-86.3\" font-family=\"Times,serif\" font-size=\"14.00\">6</text>\n</g>\n<!-- 3&#45;&gt;6 -->\n<g id=\"edge3\" class=\"edge\">\n<title>3-&gt;6</title>\n<path fill=\"none\" stroke=\"black\" d=\"M99,-143.7C99,-136.41 99,-127.73 99,-119.54\"/>\n<polygon fill=\"black\" stroke=\"black\" points=\"102.5,-119.62 99,-109.62 95.5,-119.62 102.5,-119.62\"/>\n</g>\n<!-- 5 -->\n<g id=\"node5\" class=\"node\">\n<title>5</title>\n<ellipse fill=\"none\" stroke=\"black\" cx=\"99\" cy=\"-18\" rx=\"27\" ry=\"18\"/>\n<text text-anchor=\"middle\" x=\"99\" y=\"-14.3\" font-family=\"Times,serif\" font-size=\"14.00\">5</text>\n</g>\n<!-- 6&#45;&gt;5 -->\n<g id=\"edge4\" class=\"edge\">\n<title>6-&gt;5</title>\n<path fill=\"none\" stroke=\"black\" d=\"M99,-71.7C99,-64.41 99,-55.73 99,-47.54\"/>\n<polygon fill=\"black\" stroke=\"black\" points=\"102.5,-47.62 99,-37.62 95.5,-47.62 102.5,-47.62\"/>\n</g>\n<!-- 12 -->\n<g id=\"node7\" class=\"node\">\n<title>12</title>\n<ellipse fill=\"none\" stroke=\"black\" cx=\"171\" cy=\"-90\" rx=\"27\" ry=\"18\"/>\n<text text-anchor=\"middle\" x=\"171\" y=\"-86.3\" font-family=\"Times,serif\" font-size=\"14.00\">12</text>\n</g>\n<!-- 10&#45;&gt;12 -->\n<g id=\"edge6\" class=\"edge\">\n<title>10-&gt;12</title>\n<path fill=\"none\" stroke=\"black\" d=\"M171,-143.7C171,-136.41 171,-127.73 171,-119.54\"/>\n<polygon fill=\"black\" stroke=\"black\" points=\"174.5,-119.62 171,-109.62 167.5,-119.62 174.5,-119.62\"/>\n</g>\n<!-- 11 -->\n<g id=\"node8\" class=\"node\">\n<title>11</title>\n<ellipse fill=\"none\" stroke=\"black\" cx=\"171\" cy=\"-18\" rx=\"27\" ry=\"18\"/>\n<text text-anchor=\"middle\" x=\"171\" y=\"-14.3\" font-family=\"Times,serif\" font-size=\"14.00\">11</text>\n</g>\n<!-- 12&#45;&gt;11 -->\n<g id=\"edge7\" class=\"edge\">\n<title>12-&gt;11</title>\n<path fill=\"none\" stroke=\"black\" d=\"M171,-71.7C171,-64.41 171,-55.73 171,-47.54\"/>\n<polygon fill=\"black\" stroke=\"black\" points=\"174.5,-47.62 171,-37.62 167.5,-47.62 174.5,-47.62\"/>\n</g>\n<!-- 15 -->\n<g id=\"node9\" class=\"node\">\n<title>15</title>\n<ellipse fill=\"none\" stroke=\"black\" cx=\"243\" cy=\"-18\" rx=\"27\" ry=\"18\"/>\n<text text-anchor=\"middle\" x=\"243\" y=\"-14.3\" font-family=\"Times,serif\" font-size=\"14.00\">15</text>\n</g>\n<!-- 12&#45;&gt;15 -->\n<g id=\"edge8\" class=\"edge\">\n<title>12-&gt;15</title>\n<path fill=\"none\" stroke=\"black\" d=\"M185.92,-74.5C195.77,-64.92 208.86,-52.19 220.03,-41.34\"/>\n<polygon fill=\"black\" stroke=\"black\" points=\"222.29,-44.02 227.02,-34.54 217.41,-39 222.29,-44.02\"/>\n</g>\n</g>\n</svg>",
      "text/plain": [
       "<IPython.core.display.SVG object>"
      ]
     },
     "execution_count": 67,
     "metadata": {},
     "output_type": "execute_result"
    }
   ],
   "source": [
    "another_bst = BST()\n",
    "another_bst.add(7)\n",
    "another_bst.add(10)\n",
    "another_bst.add(3)\n",
    "another_bst.add(6)\n",
    "another_bst.add(12)\n",
    "another_bst.add(15)\n",
    "another_bst.add(2)\n",
    "another_bst.add(5)\n",
    "another_bst.add(11)\n",
    "\n",
    "another_bst.visualize()\n",
    "\n"
   ]
  },
  {
   "cell_type": "code",
   "execution_count": 68,
   "id": "c4f3b497",
   "metadata": {},
   "outputs": [
    {
     "data": {
      "image/svg+xml": "<svg xmlns=\"http://www.w3.org/2000/svg\" xmlns:xlink=\"http://www.w3.org/1999/xlink\" width=\"206pt\" height=\"260pt\" viewBox=\"0.00 0.00 206.00 260.00\">\n<g id=\"graph0\" class=\"graph\" transform=\"scale(1 1) rotate(0) translate(4 256)\">\n<polygon fill=\"white\" stroke=\"none\" points=\"-4,4 -4,-256 202,-256 202,4 -4,4\"/>\n<!-- 7 -->\n<g id=\"node1\" class=\"node\">\n<title>7</title>\n<ellipse fill=\"none\" stroke=\"black\" cx=\"63\" cy=\"-234\" rx=\"27\" ry=\"18\"/>\n<text text-anchor=\"middle\" x=\"63\" y=\"-230.3\" font-family=\"Times,serif\" font-size=\"14.00\">7</text>\n</g>\n<!-- 3 -->\n<g id=\"node2\" class=\"node\">\n<title>3</title>\n<ellipse fill=\"none\" stroke=\"black\" cx=\"27\" cy=\"-162\" rx=\"27\" ry=\"18\"/>\n<text text-anchor=\"middle\" x=\"27\" y=\"-158.3\" font-family=\"Times,serif\" font-size=\"14.00\">3</text>\n</g>\n<!-- 7&#45;&gt;3 -->\n<g id=\"edge1\" class=\"edge\">\n<title>7-&gt;3</title>\n<path fill=\"none\" stroke=\"black\" d=\"M54.65,-216.76C50.42,-208.55 45.19,-198.37 40.42,-189.09\"/>\n<polygon fill=\"black\" stroke=\"black\" points=\"43.68,-187.79 36,-180.49 37.46,-190.99 43.68,-187.79\"/>\n</g>\n<!-- 10 -->\n<g id=\"node5\" class=\"node\">\n<title>10</title>\n<ellipse fill=\"none\" stroke=\"black\" cx=\"99\" cy=\"-162\" rx=\"27\" ry=\"18\"/>\n<text text-anchor=\"middle\" x=\"99\" y=\"-158.3\" font-family=\"Times,serif\" font-size=\"14.00\">10</text>\n</g>\n<!-- 7&#45;&gt;10 -->\n<g id=\"edge4\" class=\"edge\">\n<title>7-&gt;10</title>\n<path fill=\"none\" stroke=\"black\" d=\"M71.35,-216.76C75.58,-208.55 80.81,-198.37 85.58,-189.09\"/>\n<polygon fill=\"black\" stroke=\"black\" points=\"88.54,-190.99 90,-180.49 82.32,-187.79 88.54,-190.99\"/>\n</g>\n<!-- 6 -->\n<g id=\"node3\" class=\"node\">\n<title>6</title>\n<ellipse fill=\"none\" stroke=\"black\" cx=\"27\" cy=\"-90\" rx=\"27\" ry=\"18\"/>\n<text text-anchor=\"middle\" x=\"27\" y=\"-86.3\" font-family=\"Times,serif\" font-size=\"14.00\">6</text>\n</g>\n<!-- 3&#45;&gt;6 -->\n<g id=\"edge2\" class=\"edge\">\n<title>3-&gt;6</title>\n<path fill=\"none\" stroke=\"black\" d=\"M27,-143.7C27,-136.41 27,-127.73 27,-119.54\"/>\n<polygon fill=\"black\" stroke=\"black\" points=\"30.5,-119.62 27,-109.62 23.5,-119.62 30.5,-119.62\"/>\n</g>\n<!-- 5 -->\n<g id=\"node4\" class=\"node\">\n<title>5</title>\n<ellipse fill=\"none\" stroke=\"black\" cx=\"27\" cy=\"-18\" rx=\"27\" ry=\"18\"/>\n<text text-anchor=\"middle\" x=\"27\" y=\"-14.3\" font-family=\"Times,serif\" font-size=\"14.00\">5</text>\n</g>\n<!-- 6&#45;&gt;5 -->\n<g id=\"edge3\" class=\"edge\">\n<title>6-&gt;5</title>\n<path fill=\"none\" stroke=\"black\" d=\"M27,-71.7C27,-64.41 27,-55.73 27,-47.54\"/>\n<polygon fill=\"black\" stroke=\"black\" points=\"30.5,-47.62 27,-37.62 23.5,-47.62 30.5,-47.62\"/>\n</g>\n<!-- 12 -->\n<g id=\"node6\" class=\"node\">\n<title>12</title>\n<ellipse fill=\"none\" stroke=\"black\" cx=\"99\" cy=\"-90\" rx=\"27\" ry=\"18\"/>\n<text text-anchor=\"middle\" x=\"99\" y=\"-86.3\" font-family=\"Times,serif\" font-size=\"14.00\">12</text>\n</g>\n<!-- 10&#45;&gt;12 -->\n<g id=\"edge5\" class=\"edge\">\n<title>10-&gt;12</title>\n<path fill=\"none\" stroke=\"black\" d=\"M99,-143.7C99,-136.41 99,-127.73 99,-119.54\"/>\n<polygon fill=\"black\" stroke=\"black\" points=\"102.5,-119.62 99,-109.62 95.5,-119.62 102.5,-119.62\"/>\n</g>\n<!-- 11 -->\n<g id=\"node7\" class=\"node\">\n<title>11</title>\n<ellipse fill=\"none\" stroke=\"black\" cx=\"99\" cy=\"-18\" rx=\"27\" ry=\"18\"/>\n<text text-anchor=\"middle\" x=\"99\" y=\"-14.3\" font-family=\"Times,serif\" font-size=\"14.00\">11</text>\n</g>\n<!-- 12&#45;&gt;11 -->\n<g id=\"edge6\" class=\"edge\">\n<title>12-&gt;11</title>\n<path fill=\"none\" stroke=\"black\" d=\"M99,-71.7C99,-64.41 99,-55.73 99,-47.54\"/>\n<polygon fill=\"black\" stroke=\"black\" points=\"102.5,-47.62 99,-37.62 95.5,-47.62 102.5,-47.62\"/>\n</g>\n<!-- 15 -->\n<g id=\"node8\" class=\"node\">\n<title>15</title>\n<ellipse fill=\"none\" stroke=\"black\" cx=\"171\" cy=\"-18\" rx=\"27\" ry=\"18\"/>\n<text text-anchor=\"middle\" x=\"171\" y=\"-14.3\" font-family=\"Times,serif\" font-size=\"14.00\">15</text>\n</g>\n<!-- 12&#45;&gt;15 -->\n<g id=\"edge7\" class=\"edge\">\n<title>12-&gt;15</title>\n<path fill=\"none\" stroke=\"black\" d=\"M113.92,-74.5C123.77,-64.92 136.86,-52.19 148.03,-41.34\"/>\n<polygon fill=\"black\" stroke=\"black\" points=\"150.29,-44.02 155.02,-34.54 145.41,-39 150.29,-44.02\"/>\n</g>\n</g>\n</svg>",
      "text/plain": [
       "<IPython.core.display.SVG object>"
      ]
     },
     "execution_count": 68,
     "metadata": {},
     "output_type": "execute_result"
    }
   ],
   "source": [
    "# Deleting a leaf node\n",
    "another_bst.delete(another_bst.root, 2)\n",
    "another_bst.visualize()\n",
    "\n"
   ]
  },
  {
   "cell_type": "code",
   "execution_count": 69,
   "id": "1128fb25",
   "metadata": {},
   "outputs": [
    {
     "data": {
      "image/svg+xml": "<svg xmlns=\"http://www.w3.org/2000/svg\" xmlns:xlink=\"http://www.w3.org/1999/xlink\" width=\"170pt\" height=\"260pt\" viewBox=\"0.00 0.00 170.00 260.00\">\n<g id=\"graph0\" class=\"graph\" transform=\"scale(1 1) rotate(0) translate(4 256)\">\n<polygon fill=\"white\" stroke=\"none\" points=\"-4,4 -4,-256 166,-256 166,4 -4,4\"/>\n<!-- 7 -->\n<g id=\"node1\" class=\"node\">\n<title>7</title>\n<ellipse fill=\"none\" stroke=\"black\" cx=\"63\" cy=\"-234\" rx=\"27\" ry=\"18\"/>\n<text text-anchor=\"middle\" x=\"63\" y=\"-230.3\" font-family=\"Times,serif\" font-size=\"14.00\">7</text>\n</g>\n<!-- 6 -->\n<g id=\"node2\" class=\"node\">\n<title>6</title>\n<ellipse fill=\"none\" stroke=\"black\" cx=\"27\" cy=\"-162\" rx=\"27\" ry=\"18\"/>\n<text text-anchor=\"middle\" x=\"27\" y=\"-158.3\" font-family=\"Times,serif\" font-size=\"14.00\">6</text>\n</g>\n<!-- 7&#45;&gt;6 -->\n<g id=\"edge1\" class=\"edge\">\n<title>7-&gt;6</title>\n<path fill=\"none\" stroke=\"black\" d=\"M54.65,-216.76C50.42,-208.55 45.19,-198.37 40.42,-189.09\"/>\n<polygon fill=\"black\" stroke=\"black\" points=\"43.68,-187.79 36,-180.49 37.46,-190.99 43.68,-187.79\"/>\n</g>\n<!-- 10 -->\n<g id=\"node4\" class=\"node\">\n<title>10</title>\n<ellipse fill=\"none\" stroke=\"black\" cx=\"99\" cy=\"-162\" rx=\"27\" ry=\"18\"/>\n<text text-anchor=\"middle\" x=\"99\" y=\"-158.3\" font-family=\"Times,serif\" font-size=\"14.00\">10</text>\n</g>\n<!-- 7&#45;&gt;10 -->\n<g id=\"edge3\" class=\"edge\">\n<title>7-&gt;10</title>\n<path fill=\"none\" stroke=\"black\" d=\"M71.35,-216.76C75.58,-208.55 80.81,-198.37 85.58,-189.09\"/>\n<polygon fill=\"black\" stroke=\"black\" points=\"88.54,-190.99 90,-180.49 82.32,-187.79 88.54,-190.99\"/>\n</g>\n<!-- 5 -->\n<g id=\"node3\" class=\"node\">\n<title>5</title>\n<ellipse fill=\"none\" stroke=\"black\" cx=\"27\" cy=\"-90\" rx=\"27\" ry=\"18\"/>\n<text text-anchor=\"middle\" x=\"27\" y=\"-86.3\" font-family=\"Times,serif\" font-size=\"14.00\">5</text>\n</g>\n<!-- 6&#45;&gt;5 -->\n<g id=\"edge2\" class=\"edge\">\n<title>6-&gt;5</title>\n<path fill=\"none\" stroke=\"black\" d=\"M27,-143.7C27,-136.41 27,-127.73 27,-119.54\"/>\n<polygon fill=\"black\" stroke=\"black\" points=\"30.5,-119.62 27,-109.62 23.5,-119.62 30.5,-119.62\"/>\n</g>\n<!-- 12 -->\n<g id=\"node5\" class=\"node\">\n<title>12</title>\n<ellipse fill=\"none\" stroke=\"black\" cx=\"99\" cy=\"-90\" rx=\"27\" ry=\"18\"/>\n<text text-anchor=\"middle\" x=\"99\" y=\"-86.3\" font-family=\"Times,serif\" font-size=\"14.00\">12</text>\n</g>\n<!-- 10&#45;&gt;12 -->\n<g id=\"edge4\" class=\"edge\">\n<title>10-&gt;12</title>\n<path fill=\"none\" stroke=\"black\" d=\"M99,-143.7C99,-136.41 99,-127.73 99,-119.54\"/>\n<polygon fill=\"black\" stroke=\"black\" points=\"102.5,-119.62 99,-109.62 95.5,-119.62 102.5,-119.62\"/>\n</g>\n<!-- 11 -->\n<g id=\"node6\" class=\"node\">\n<title>11</title>\n<ellipse fill=\"none\" stroke=\"black\" cx=\"63\" cy=\"-18\" rx=\"27\" ry=\"18\"/>\n<text text-anchor=\"middle\" x=\"63\" y=\"-14.3\" font-family=\"Times,serif\" font-size=\"14.00\">11</text>\n</g>\n<!-- 12&#45;&gt;11 -->\n<g id=\"edge5\" class=\"edge\">\n<title>12-&gt;11</title>\n<path fill=\"none\" stroke=\"black\" d=\"M90.65,-72.76C86.42,-64.55 81.19,-54.37 76.42,-45.09\"/>\n<polygon fill=\"black\" stroke=\"black\" points=\"79.68,-43.79 72,-36.49 73.46,-46.99 79.68,-43.79\"/>\n</g>\n<!-- 15 -->\n<g id=\"node7\" class=\"node\">\n<title>15</title>\n<ellipse fill=\"none\" stroke=\"black\" cx=\"135\" cy=\"-18\" rx=\"27\" ry=\"18\"/>\n<text text-anchor=\"middle\" x=\"135\" y=\"-14.3\" font-family=\"Times,serif\" font-size=\"14.00\">15</text>\n</g>\n<!-- 12&#45;&gt;15 -->\n<g id=\"edge6\" class=\"edge\">\n<title>12-&gt;15</title>\n<path fill=\"none\" stroke=\"black\" d=\"M107.35,-72.76C111.58,-64.55 116.81,-54.37 121.58,-45.09\"/>\n<polygon fill=\"black\" stroke=\"black\" points=\"124.54,-46.99 126,-36.49 118.32,-43.79 124.54,-46.99\"/>\n</g>\n</g>\n</svg>",
      "text/plain": [
       "<IPython.core.display.SVG object>"
      ]
     },
     "execution_count": 69,
     "metadata": {},
     "output_type": "execute_result"
    }
   ],
   "source": [
    "# Deleting a node with one child\n",
    "another_bst.delete(another_bst.root, 3)\n",
    "another_bst.visualize()\n",
    "\n"
   ]
  },
  {
   "cell_type": "code",
   "execution_count": 70,
   "id": "8466871e",
   "metadata": {},
   "outputs": [
    {
     "data": {
      "image/svg+xml": "<svg xmlns=\"http://www.w3.org/2000/svg\" xmlns:xlink=\"http://www.w3.org/1999/xlink\" width=\"134pt\" height=\"260pt\" viewBox=\"0.00 0.00 134.00 260.00\">\n<g id=\"graph0\" class=\"graph\" transform=\"scale(1 1) rotate(0) translate(4 256)\">\n<polygon fill=\"white\" stroke=\"none\" points=\"-4,4 -4,-256 130,-256 130,4 -4,4\"/>\n<!-- 7 -->\n<g id=\"node1\" class=\"node\">\n<title>7</title>\n<ellipse fill=\"none\" stroke=\"black\" cx=\"63\" cy=\"-234\" rx=\"27\" ry=\"18\"/>\n<text text-anchor=\"middle\" x=\"63\" y=\"-230.3\" font-family=\"Times,serif\" font-size=\"14.00\">7</text>\n</g>\n<!-- 6 -->\n<g id=\"node2\" class=\"node\">\n<title>6</title>\n<ellipse fill=\"none\" stroke=\"black\" cx=\"27\" cy=\"-162\" rx=\"27\" ry=\"18\"/>\n<text text-anchor=\"middle\" x=\"27\" y=\"-158.3\" font-family=\"Times,serif\" font-size=\"14.00\">6</text>\n</g>\n<!-- 7&#45;&gt;6 -->\n<g id=\"edge1\" class=\"edge\">\n<title>7-&gt;6</title>\n<path fill=\"none\" stroke=\"black\" d=\"M54.65,-216.76C50.42,-208.55 45.19,-198.37 40.42,-189.09\"/>\n<polygon fill=\"black\" stroke=\"black\" points=\"43.68,-187.79 36,-180.49 37.46,-190.99 43.68,-187.79\"/>\n</g>\n<!-- 10 -->\n<g id=\"node4\" class=\"node\">\n<title>10</title>\n<ellipse fill=\"none\" stroke=\"black\" cx=\"99\" cy=\"-162\" rx=\"27\" ry=\"18\"/>\n<text text-anchor=\"middle\" x=\"99\" y=\"-158.3\" font-family=\"Times,serif\" font-size=\"14.00\">10</text>\n</g>\n<!-- 7&#45;&gt;10 -->\n<g id=\"edge3\" class=\"edge\">\n<title>7-&gt;10</title>\n<path fill=\"none\" stroke=\"black\" d=\"M71.35,-216.76C75.58,-208.55 80.81,-198.37 85.58,-189.09\"/>\n<polygon fill=\"black\" stroke=\"black\" points=\"88.54,-190.99 90,-180.49 82.32,-187.79 88.54,-190.99\"/>\n</g>\n<!-- 5 -->\n<g id=\"node3\" class=\"node\">\n<title>5</title>\n<ellipse fill=\"none\" stroke=\"black\" cx=\"27\" cy=\"-90\" rx=\"27\" ry=\"18\"/>\n<text text-anchor=\"middle\" x=\"27\" y=\"-86.3\" font-family=\"Times,serif\" font-size=\"14.00\">5</text>\n</g>\n<!-- 6&#45;&gt;5 -->\n<g id=\"edge2\" class=\"edge\">\n<title>6-&gt;5</title>\n<path fill=\"none\" stroke=\"black\" d=\"M27,-143.7C27,-136.41 27,-127.73 27,-119.54\"/>\n<polygon fill=\"black\" stroke=\"black\" points=\"30.5,-119.62 27,-109.62 23.5,-119.62 30.5,-119.62\"/>\n</g>\n<!-- 15 -->\n<g id=\"node5\" class=\"node\">\n<title>15</title>\n<ellipse fill=\"none\" stroke=\"black\" cx=\"99\" cy=\"-90\" rx=\"27\" ry=\"18\"/>\n<text text-anchor=\"middle\" x=\"99\" y=\"-86.3\" font-family=\"Times,serif\" font-size=\"14.00\">15</text>\n</g>\n<!-- 10&#45;&gt;15 -->\n<g id=\"edge4\" class=\"edge\">\n<title>10-&gt;15</title>\n<path fill=\"none\" stroke=\"black\" d=\"M99,-143.7C99,-136.41 99,-127.73 99,-119.54\"/>\n<polygon fill=\"black\" stroke=\"black\" points=\"102.5,-119.62 99,-109.62 95.5,-119.62 102.5,-119.62\"/>\n</g>\n<!-- 11 -->\n<g id=\"node6\" class=\"node\">\n<title>11</title>\n<ellipse fill=\"none\" stroke=\"black\" cx=\"99\" cy=\"-18\" rx=\"27\" ry=\"18\"/>\n<text text-anchor=\"middle\" x=\"99\" y=\"-14.3\" font-family=\"Times,serif\" font-size=\"14.00\">11</text>\n</g>\n<!-- 15&#45;&gt;11 -->\n<g id=\"edge5\" class=\"edge\">\n<title>15-&gt;11</title>\n<path fill=\"none\" stroke=\"black\" d=\"M99,-71.7C99,-64.41 99,-55.73 99,-47.54\"/>\n<polygon fill=\"black\" stroke=\"black\" points=\"102.5,-47.62 99,-37.62 95.5,-47.62 102.5,-47.62\"/>\n</g>\n</g>\n</svg>",
      "text/plain": [
       "<IPython.core.display.SVG object>"
      ]
     },
     "execution_count": 70,
     "metadata": {},
     "output_type": "execute_result"
    }
   ],
   "source": [
    "# Deleting a node with two children\n",
    "another_bst.delete(another_bst.root, 12)\n",
    "another_bst.visualize()"
   ]
  },
  {
   "attachments": {
    "fb1335f1-16d7-4a9b-b280-cdfa84933a3e.png": {
     "image/png": "[encoded data removed]"
    }
   },
   "cell_type": "markdown",
   "id": "b30d974d-4317-4966-afc9-f5b9a7277f18",
   "metadata": {},
   "source": [
    "# Task 5 Predecessor and successor\n",
    "\n",
    "**Predecessor of a node** is the node visited just before this node in inorder traversal.\n",
    "\n",
    "**Successor of a node** is the node visited just after this node in inorder traversal.\n",
    "\n",
    "![image.png](attachment:fb1335f1-16d7-4a9b-b280-cdfa84933a3e.png)\n",
    "\n",
    "For example, in the above graph, the inorder successor of 8 is 10, whereas the predecessor is 4.\n",
    "\n",
    "The inorder successor of 14 is 20, whereas the inorder predecessor is 12.\n",
    "\n",
    "Write an algorithm for finding the predecessor and an algorithm for finding the successor of a given node."
   ]
  },
  {
   "cell_type": "code",
   "execution_count": 71,
   "id": "4b5cd8cb-723f-4325-b295-315726a58368",
   "metadata": {},
   "outputs": [
    {
     "name": "stdout",
     "output_type": "stream",
     "text": [
      "\n",
      "Predecessor of 6 is: 5\n",
      "Successor of 6 is: 7\n"
     ]
    }
   ],
   "source": [
    "# Algorithms for finding the predecessor and successor of a node in BST are also added in BST class!\n",
    "\n",
    "print(f\"\\nPredecessor of 6 is:\", bst.predecessor(bst.root, 6).value)\n",
    "print(f\"Successor of 6 is:\", bst.successor(bst.root, 6).value)\n"
   ]
  },
  {
   "cell_type": "code",
   "execution_count": null,
   "id": "d9f6dbe7",
   "metadata": {},
   "outputs": [],
   "source": []
  }
 ],
 "metadata": {
  "kernelspec": {
   "display_name": "Python 3 (ipykernel)",
   "language": "python",
   "name": "python3"
  },
  "language_info": {
   "codemirror_mode": {
    "name": "ipython",
    "version": 3
   },
   "file_extension": ".py",
   "mimetype": "text/x-python",
   "name": "python",
   "nbconvert_exporter": "python",
   "pygments_lexer": "ipython3",
   "version": "3.11.2"
  }
 },
 "nbformat": 4,
 "nbformat_minor": 5
}
